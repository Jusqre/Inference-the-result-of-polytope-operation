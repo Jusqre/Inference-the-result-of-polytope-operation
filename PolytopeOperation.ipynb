{
 "cells": [
  {
   "cell_type": "code",
   "execution_count": 1,
   "metadata": {},
   "outputs": [],
   "source": [
    "def f_vector(n, v): \n",
    "    if n >= v:\n",
    "        return \"ERROR: rand_sphere: 2 <= dim < #vertices\" \n",
    "    else:\n",
    "        ar=[]\n",
    "        e = 0\n",
    "        f = 0\n",
    "        if n==2:\n",
    "            ar.append(v)\n",
    "            e += v\n",
    "            ar.append(e)\n",
    "            return ar\n",
    "        elif n==3:\n",
    "            ar.append(v)\n",
    "            if v==4:\n",
    "                e += 2*v-2\n",
    "                f += v\n",
    "                ar.append(e)\n",
    "                ar.append(f)\n",
    "                return ar\n",
    "            elif v > 4:\n",
    "                e += 3*v-6\n",
    "                f += 2*v-4\n",
    "                ar.append(e)\n",
    "                ar.append(f)\n",
    "                return ar\n",
    "        elif n==4:\n",
    "            mx = []\n",
    "            ver=0\n",
    "            x=0\n",
    "            ar.append(v)\n",
    "            for _ in range(0,n):\n",
    "                mx.append([])\n",
    "            for i in range(1,v+1):\n",
    "                ver+=i\n",
    "                mx[0].append(i)\n",
    "\n",
    "            for j in range(1,v+1):\n",
    "                if j<=1:\n",
    "                    mx[1].append(0)\n",
    "                else:\n",
    "                    e+=mx[0][j-2]\n",
    "                    mx[1].append(e)\n",
    "            ar.append(e)\n",
    "            \n",
    "            for k in range(1,v+1):\n",
    "                if k<=2:\n",
    "                    mx [2].append(0)\n",
    "                else:\n",
    "                    f+=mx[1][k-2]\n",
    "                    mx[2].append(f)\n",
    "            ar.append(f)\n",
    "            \n",
    "            for l in range(1,v+1):\n",
    "                if l<=3:\n",
    "                    mx[3].append(0)\n",
    "                else:\n",
    "                    x+=mx[2][l-2]\n",
    "                    mx[3].append(x)\n",
    "            ar.append(x)\n",
    "            \n",
    "            return ar\n"
   ]
  },
  {
   "cell_type": "code",
   "execution_count": 2,
   "metadata": {},
   "outputs": [],
   "source": [
    "def f_vector2(n, v):\n",
    "    if n >= v:\n",
    "        return \"ERROR: rand_sphere: 2 <= dim < #vertices\"\n",
    "    else:\n",
    "        ar=[]\n",
    "        e = 0\n",
    "        f = 0\n",
    "        if n==2:\n",
    "            ar.append(v)\n",
    "            e += v\n",
    "            ar.append(e)\n",
    "            return ar\n",
    "        elif n==3:\n",
    "            ar.append(v)\n",
    "            if v==4:\n",
    "                e += 2*v-2\n",
    "                f += v\n",
    "                ar.append(e)\n",
    "                ar.append(f)\n",
    "                return ar\n",
    "            elif v > 4:\n",
    "                e += 3*v-6\n",
    "                f += 2*v-4\n",
    "                ar.append(e)\n",
    "                ar.append(f)\n",
    "                return ar\n",
    "        else:\n",
    "            sum_e = 0\n",
    "            sum_f = 0\n",
    "            last = 0\n",
    "            # vertex\n",
    "            f_v = f_vector2(n-1, n)[0] + v-n\n",
    "            ar.append(f_v)\n",
    "            #edege\n",
    "            for i in range(n,v):\n",
    "                sum_e+=i\n",
    "            f_e = f_vector2(n-1, n)[1] + sum_e\n",
    "            ar.append(f_e)\n",
    "            # 면부터 다포체\n",
    "            for i in range(2,n-1):\n",
    "                if (v-n == 1):\n",
    "                    x=0\n",
    "                    x=f_vector2(n-1,n)[i-1]+f_vector2(n-1,n)[i]\n",
    "                    ar.insert(i,x)\n",
    "                elif (v-n >= 2):\n",
    "                    y=0\n",
    "                    y=f_vector2(n,v-1)[i-1]+f_vector2(n,v-1)[i]\n",
    "                    ar.insert(i,y)\n",
    "            # 마지막 수, 오일러 함수 이용 \n",
    "            if n%2 == 0:\n",
    "                for i in range(0,n-1):\n",
    "                    last += ar[i]*(-1) **i\n",
    "                ar.append(last)\n",
    "            else:\n",
    "                for i in range(0,n-1):\n",
    "                    last += ar[i]*(-1)** i\n",
    "                last = 2 - last\n",
    "                ar.append(last)\n",
    "            return ar\n"
   ]
  },
  {
   "cell_type": "code",
   "execution_count": 3,
   "metadata": {},
   "outputs": [],
   "source": [
    "def pyramid(n,v):\n",
    "    rs = []\n",
    "    ar = f_vector(n, v)\n",
    "    i=0\n",
    "    if n==2:\n",
    "        rs.append(ar[0]+1)\n",
    "        rs.append(ar[1]+ar[0])\n",
    "        rs.append(1+ar[1])\n",
    "    else:\n",
    "        rs.append(ar[0]+1)\n",
    "        for i in range(1, n):\n",
    "            rs.append(ar[i]+ar[i-1])\n",
    "        rs.append(1+ar[n-1])\n",
    "    return rs"
   ]
  },
  {
   "cell_type": "code",
   "execution_count": 4,
   "metadata": {},
   "outputs": [],
   "source": [
    "def pyramid2(n,v):\n",
    "    rs = []\n",
    "    ar = f_vector2(n, v)\n",
    "    i=0\n",
    "    if n==2:\n",
    "        rs.append(ar[0]+1)\n",
    "        rs.append(ar[1]+ar[0])\n",
    "        rs.append(1+ar[1])\n",
    "    else:\n",
    "        rs.append(ar[0]+1)\n",
    "        for i in range(1, n):\n",
    "            rs.append(ar[i]+ar[i-1])\n",
    "        rs.append(1+ar[n-1])\n",
    "    return rs"
   ]
  },
  {
   "cell_type": "code",
   "execution_count": 5,
   "metadata": {},
   "outputs": [],
   "source": [
    "def prism(n, v):\n",
    "    rs = []\n",
    "    ar = f_vector(n, v)\n",
    "    i =0\n",
    "    if n==2:\n",
    "        rs.append(2*ar[0])\n",
    "        rs.append(2*ar[1]+ar[0])\n",
    "        rs.append(2+ar[1])\n",
    "    else:\n",
    "        rs.append(2*ar[0])\n",
    "        for i in range(1, n):\n",
    "            rs.append(2*ar[i]+ar[i-1])\n",
    "        rs.append(2+ar[n-1])\n",
    "    return rs"
   ]
  },
  {
   "cell_type": "code",
   "execution_count": 6,
   "metadata": {},
   "outputs": [],
   "source": [
    "def prism2(n, v):\n",
    "    rs = []\n",
    "    ar = f_vector2(n, v)\n",
    "    i =0\n",
    "    if n==2:\n",
    "        rs.append(2*ar[0])\n",
    "        rs.append(2*ar[1]+ar[0])\n",
    "        rs.append(2+ar[1])\n",
    "    else:\n",
    "        rs.append(2*ar[0])\n",
    "        for i in range(1, n):\n",
    "            rs.append(2*ar[i]+ar[i-1])\n",
    "        rs.append(2+ar[n-1])\n",
    "    return rs"
   ]
  },
  {
   "cell_type": "code",
   "execution_count": 7,
   "metadata": {},
   "outputs": [
    {
     "data": {
      "text/plain": [
       "[12, 30, 20]"
      ]
     },
     "execution_count": 7,
     "metadata": {},
     "output_type": "execute_result"
    }
   ],
   "source": [
    "f_vector(3,12)"
   ]
  },
  {
   "cell_type": "code",
   "execution_count": 8,
   "metadata": {},
   "outputs": [
    {
     "data": {
      "text/plain": [
       "[12, 30, 20]"
      ]
     },
     "execution_count": 8,
     "metadata": {},
     "output_type": "execute_result"
    }
   ],
   "source": [
    "f_vector(3,12)"
   ]
  },
  {
   "cell_type": "code",
   "execution_count": 9,
   "metadata": {},
   "outputs": [
    {
     "data": {
      "text/plain": [
       "[13, 42, 50, 21]"
      ]
     },
     "execution_count": 9,
     "metadata": {},
     "output_type": "execute_result"
    }
   ],
   "source": [
    "pyramid(3,12)"
   ]
  },
  {
   "cell_type": "code",
   "execution_count": 10,
   "metadata": {},
   "outputs": [
    {
     "data": {
      "text/plain": [
       "[24, 72, 70, 22]"
      ]
     },
     "execution_count": 10,
     "metadata": {},
     "output_type": "execute_result"
    }
   ],
   "source": [
    "prism(3,12)"
   ]
  },
  {
   "cell_type": "code",
   "execution_count": 11,
   "metadata": {},
   "outputs": [
    {
     "data": {
      "text/plain": [
       "[9, 36, 84, 126, 126, 84, 36, 9]"
      ]
     },
     "execution_count": 11,
     "metadata": {},
     "output_type": "execute_result"
    }
   ],
   "source": [
    "f_vector2(8,9)"
   ]
  },
  {
   "cell_type": "code",
   "execution_count": 12,
   "metadata": {},
   "outputs": [
    {
     "data": {
      "text/plain": [
       "[10, 45, 120, 210, 252, 210, 120, 45, 10]"
      ]
     },
     "execution_count": 12,
     "metadata": {},
     "output_type": "execute_result"
    }
   ],
   "source": [
    "pyramid2(8,9)"
   ]
  },
  {
   "cell_type": "code",
   "execution_count": null,
   "metadata": {},
   "outputs": [],
   "source": []
  }
 ],
 "metadata": {
  "kernelspec": {
   "display_name": "Python 3",
   "language": "python",
   "name": "python3"
  },
  "language_info": {
   "codemirror_mode": {
    "name": "ipython",
    "version": 3
   },
   "file_extension": ".py",
   "mimetype": "text/x-python",
   "name": "python",
   "nbconvert_exporter": "python",
   "pygments_lexer": "ipython3",
   "version": "3.8.5"
  }
 },
 "nbformat": 4,
 "nbformat_minor": 4
}
